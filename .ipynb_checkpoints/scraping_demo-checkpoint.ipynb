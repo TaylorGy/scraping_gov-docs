{
 "cells": [
  {
   "cell_type": "code",
   "execution_count": 2,
   "metadata": {},
   "outputs": [],
   "source": [
    "from bs4 import BeautifulSoup\n",
    "from urllib2 import urlopen\n",
    "import re\n",
    "import requests\n",
    "import webbrowser\n",
    "import pandas as pd\n",
    "import json\n",
    "import jsonpath"
   ]
  },
  {
   "cell_type": "code",
   "execution_count": null,
   "metadata": {},
   "outputs": [],
   "source": [
    "html = urlopen(\n",
    "    \"http://www.forestry.gov.cn/sites/main/main/gov/content.jsp?TID=20200619092129205327360\"\n",
    ").read().decode('utf-8')\n",
    "print(html)"
   ]
  },
  {
   "cell_type": "code",
   "execution_count": null,
   "metadata": {},
   "outputs": [],
   "source": [
    "soup = BeautifulSoup(html, features='lxml')\n",
    "print(soup.p)"
   ]
  },
  {
   "cell_type": "code",
   "execution_count": null,
   "metadata": {},
   "outputs": [],
   "source": [
    "all_href = soup.find_all('a')\n",
    "all_href = [l['href'] for l in all_href]\n",
    "print(all_href)"
   ]
  },
  {
   "cell_type": "code",
   "execution_count": 2,
   "metadata": {},
   "outputs": [],
   "source": [
    "url_base = \"http://www.forestry.gov.cn\"\n",
    "url_index = \"/sites/main/main/gov/govindex.jsp\"\n",
    "# data = {'textfield2': '林业生态', 'page': '1'}\n",
    "# data = {'pageCurrent': '1', \n",
    "#         'pageCount': '6', \n",
    "#         'govFileid': '',\n",
    "#         'pageType': 'xxgk', \n",
    "#         'pageNo': '1',\n",
    "#         'searchChangeFlg3': '0', \n",
    "#         'searchName': '',\n",
    "#         'wenhao': '',\n",
    "#         'searchcode': '',\n",
    "#         'startdt': '',\n",
    "#         'stopdt': '',\n",
    "#         'typeid': '0', \n",
    "#         'govtypeid': '0', \n",
    "#         'textfield2': '林业生态', \n",
    "#         'GoToPage': '1'}\n",
    "# r = requests.post(base_url, data=data)\n",
    "\n",
    "param = {\n",
    "    'p': '1', \n",
    "    'textfield2': '林业生态', \n",
    "    'startdt': '2002-01-01', \n",
    "    'stopdt': '2099-12-30', \n",
    "    'govtypeid': '0', \n",
    "    'typeid': '0', \n",
    "    'page': 1\n",
    "}\n",
    "# r = requests.get(base_url, params=param)\n",
    "# webbrowser.open(r.url)\n",
    "# print(r.text)\n",
    "# all_title = []\n",
    "# all_href = []\n",
    "# all_date = []\n",
    "# all_number = []"
   ]
  },
  {
   "cell_type": "code",
   "execution_count": 7,
   "metadata": {},
   "outputs": [
    {
     "data": {
      "text/plain": [
       "True"
      ]
     },
     "execution_count": 7,
     "metadata": {},
     "output_type": "execute_result"
    }
   ],
   "source": [
    "# for page in range(1, 6):\n",
    "#     print page\n",
    "param['page'] = 1\n",
    "r = requests.get(url_base+url_index, params=param)\n",
    "# webbrowser.open(r.url)\n",
    "# print r.content\n",
    "# print r.status_code\n"
   ]
  },
  {
   "cell_type": "code",
   "execution_count": 23,
   "metadata": {},
   "outputs": [
    {
     "name": "stdout",
     "output_type": "stream",
     "text": [
      "(<type 'int'>, 5)\n"
     ]
    }
   ],
   "source": [
    "soup = BeautifulSoup(r.text, features='lxml')\n",
    "all_page = soup.find_all('span', {'style': \"border: 1px solid #CCCCCC; font-size: 12px; line-height: 28px; margin: 8px 0; overflow: hidden; padding: 3px 5px; text-decoration:none; color:#000;\"})\n",
    "npage = int(re.findall(r\"\\d+\", all_page[0].text)[0])\n",
    "print(type(npage), npage)"
   ]
  },
  {
   "cell_type": "code",
   "execution_count": 10,
   "metadata": {},
   "outputs": [
    {
     "name": "stdout",
     "output_type": "stream",
     "text": [
      "/sites/main/main/gov/content.jsp?TID=20200619092129205327360\n"
     ]
    }
   ],
   "source": [
    "all_title = []\n",
    "all_href = []\n",
    "all_date = []\n",
    "all_number = []\n",
    "\n",
    "soup = BeautifulSoup(r.text, features='lxml')\n",
    "# print(soup.find('p').get_text())\n",
    "all_document_a = soup.find_all('a', {'class': 'tooltip'})\n",
    "# for d in all_document:\n",
    "#     all_title.append(d.get_text())\n",
    "#     all_href.append(d['href'])\n",
    "all_title.extend([d.get_text() for d in all_document_a])\n",
    "all_href.extend([d['href'] for d in all_document_a])\n",
    "\n",
    "# print all_title[0]\n",
    "print all_href[0]\n",
    "\n",
    "# all_date.append(s)\n",
    "all_date_td = soup.find_all('td', {'class':'border_bottom_c2ceb3', 'width':'100'})\n",
    "# print len(all_date_td)\n",
    "# print all_date_td[0].get_text()\n",
    "all_date.extend([d.get_text() for d in all_date_td])\n",
    "# print len(all_date)\n",
    "# for d in all_date_td:\n",
    "#     print d.get_text()\n",
    "#     all_date.append()\n",
    "# print all_date[0]\n",
    "# print all_href\n",
    "# print all_title\n",
    "# print len(all_href)\n",
    "# print title\n",
    "# print len(title)\n",
    "# for t in title:\n",
    "#     print t.get_text()\n",
    "\n",
    "all_number_td = soup.find_all('td', {'class':'border_bottom_c2ceb3', 'width':'130'})\n",
    "all_number.extend([d.get_text() for d in all_number_td])\n",
    "# print len(all_number), all_number[0]"
   ]
  },
  {
   "cell_type": "code",
   "execution_count": 25,
   "metadata": {},
   "outputs": [],
   "source": [
    "import pandas as pd\n",
    "\n",
    "all_href = [url_base+h for h in all_href]\n",
    "# print all_href[0]\n",
    "\n",
    "df = pd.DataFrame({\n",
    "    u'公文名称': all_title, \n",
    "    u'发文日期': all_date, \n",
    "    u'文号': all_number, \n",
    "    u'正文链接': all_href\n",
    "})\n",
    "\n",
    "column = [u'公文名称', u'发文日期', u'文号', u'正文链接']\n",
    "\n",
    "df.to_csv(u'林草信息公开.csv', index=False, encoding='utf_8_sig', columns=column)\n"
   ]
  },
  {
   "cell_type": "markdown",
   "metadata": {},
   "source": [
    "# 政府"
   ]
  },
  {
   "cell_type": "code",
   "execution_count": 2,
   "metadata": {},
   "outputs": [],
   "source": [
    "# url_base = \"http://www.gov.cn/zhengce/xxgkzl.htm\"\n",
    "url_search = \"http://sousuo.gov.cn/list.htm\"\n",
    "\n",
    "param = {\n",
    "    'q': '西部大开发',\n",
    "    'n': 50, \n",
    "    'p': 0, \n",
    "    't': 'paper', \n",
    "    'sort': 'publishDate', \n",
    "    # childtype: \n",
    "    # subchildtype: \n",
    "    # pcodeJiguan: \n",
    "    # pcodeYear: \n",
    "    # pcodeNum: \n",
    "    # location: \n",
    "    'searchfield': 'title:content:pcode:puborg:keyword', \n",
    "    # title: \n",
    "    # content: \n",
    "    # pcode: \n",
    "    # puborg: \n",
    "    'timetype': 'timeqb'\n",
    "    # mintime: \n",
    "    # maxtime: \n",
    "}\n",
    "\n",
    "# for p in range(16):\n",
    "#     param['p'] = p\n",
    "#     r = requests.get(url_search, params=param)\n",
    "#     webbrowser.open(r.url)\n",
    "\n",
    "r = requests.get(url_search, params=param)\n",
    "webbrowser.open(r.url)\n",
    "soup = BeautifulSoup(r.content, features='lxml')"
   ]
  },
  {
   "cell_type": "code",
   "execution_count": 29,
   "metadata": {},
   "outputs": [
    {
     "name": "stdout",
     "output_type": "stream",
     "text": [
      "<span class=\"jilu\"> 共5页237条记录</span>\n",
      "5\n"
     ]
    }
   ],
   "source": [
    "all_page = soup.find_all('span', {'class': 'jilu'})\n",
    "print all_page[0]\n",
    "npage = int(re.findall(r\"\\d+\", all_page[0].text)[0])\n",
    "print npage"
   ]
  },
  {
   "cell_type": "code",
   "execution_count": 143,
   "metadata": {},
   "outputs": [
    {
     "name": "stdout",
     "output_type": "stream",
     "text": [
      "<td class=\"info\"><a href=\"http://www.gov.cn/zhengce/content/2016-11/17/content_5133603.htm\" target=\"_blank\">国务院办公厅关于调整河北小五台山等5处国家级自然保护区的通知</a>\n",
      "<ul>\n",
      "<li><strong>索  引 号：</strong>000014349/2016-00223</li>\n",
      "<li><strong>主题分类：</strong>城乡建设、环境保护\\环境监测、保护与治理</li>\n",
      "<li><strong>发文机关：</strong>国务院办公厅</li>\n",
      "<li><strong>成文日期：</strong>2016年11月11日 </li>\n",
      "<li><strong>标　　题：</strong>国务院办公厅关于调整河北小五台山等5处国家级自然保护区的通知</li>\n",
      "<li><strong>发文字号：</strong>国办函〔2016〕90号</li>\n",
      "<li><strong>发布日期：</strong>2016年11月17日 </li>\n",
      "</ul>\n",
      "</td>\n"
     ]
    }
   ],
   "source": [
    "all_document = soup.find_all('td', {'class': 'info'})\n",
    "print all_document[1]"
   ]
  },
  {
   "cell_type": "code",
   "execution_count": 139,
   "metadata": {},
   "outputs": [
    {
     "name": "stdout",
     "output_type": "stream",
     "text": [
      "国务院办公厅关于调整河北小五台山等5处国家级自然保护区的通知\n",
      "\n",
      "索  引 号：000014349/2016-00223\n",
      "主题分类：城乡建设、环境保护\\环境监测、保护与治理\n",
      "发文机关：国务院办公厅\n",
      "成文日期：2016年11月11日 \n",
      "标　　题：国务院办公厅关于调整河北小五台山等5处国家级自然保护区的通知\n",
      "发文字号：国办函〔2016〕90号\n",
      "发布日期：2016年11月17日 \n",
      "\n",
      "\n",
      "国务院办公厅关于调整河北小五台山等5处国家级自然保护区的通知\n",
      "<type 'unicode'>\n",
      "http://www.gov.cn/zhengce/content/2016-11/17/content_5133603.htm\n",
      "<type 'str'>\n",
      "<a href=\"http://www.gov.cn/zhengce/content/2016-11/17/content_5133603.htm\" target=\"_blank\">国务院办公厅关于调整河北小五台山等5处国家级自然保护区的通知</a>\n"
     ]
    }
   ],
   "source": [
    "# all_href.extend([d['href'] for d.find('a') in all_document_td])\n",
    "# print all_document[1]\n",
    "# print all_document_td.select('a')[1]\n",
    "# print type(all_document_td)\n",
    "# all_document_td.a\n",
    "# soup = BeautifulSoup(all_document_td, features='lxml')\n",
    "print(all_document[1].get_text())\n",
    "print(all_document[1].find('a').text)\n",
    "print type(all_document[1].find('a').text)\n",
    "print(all_document[1].find('a')['href']) \n",
    "print type(all_document[1].find('a')['href']) \n",
    "print(all_document[1].a)"
   ]
  },
  {
   "cell_type": "code",
   "execution_count": 174,
   "metadata": {},
   "outputs": [
    {
     "name": "stdout",
     "output_type": "stream",
     "text": [
      "国务院办公厅关于调整河北小五台山等5处国家级自然保护区的通知\n",
      "http://www.gov.cn/zhengce/content/2016-11/17/content_5133603.htm\n",
      "15 15\n"
     ]
    }
   ],
   "source": [
    "all_title = []\n",
    "all_href = []\n",
    "all_index = []\n",
    "all_class = []\n",
    "all_dept = []\n",
    "all_date_f = []\n",
    "all_number = []\n",
    "all_date_p = []\n",
    "\n",
    "all_title.extend([d.a.text for d in all_document])\n",
    "all_href.extend([d.a['href'] for d in all_document])\n",
    "print all_title[1]\n",
    "print all_href[1]\n",
    "print len(all_title), len(all_href)\n",
    "\n",
    "# print str(all_document[1])\n"
   ]
  },
  {
   "cell_type": "code",
   "execution_count": 199,
   "metadata": {
    "scrolled": true
   },
   "outputs": [
    {
     "name": "stdout",
     "output_type": "stream",
     "text": [
      "000014349/2016-00223\n",
      "城乡建设、环境保护\\环境监测、保护与治理\n",
      "国务院办公厅\n",
      "2016年11月11日 \n",
      "国务院办公厅关于调整河北小五台山等5处国家级自然保护区的通知\n",
      "国办函〔2016〕90号\n",
      "2016年11月17日 \n",
      "[u'000014349/2016-00223', u'\\u57ce\\u4e61\\u5efa\\u8bbe\\u3001\\u73af\\u5883\\u4fdd\\u62a4\\\\\\u73af\\u5883\\u76d1\\u6d4b\\u3001\\u4fdd\\u62a4\\u4e0e\\u6cbb\\u7406', u'\\u56fd\\u52a1\\u9662\\u529e\\u516c\\u5385', u'2016\\u5e7411\\u670811\\u65e5 ', u'\\u56fd\\u52a1\\u9662\\u529e\\u516c\\u5385\\u5173\\u4e8e\\u8c03\\u6574\\u6cb3\\u5317\\u5c0f\\u4e94\\u53f0\\u5c71\\u7b495\\u5904\\u56fd\\u5bb6\\u7ea7\\u81ea\\u7136\\u4fdd\\u62a4\\u533a\\u7684\\u901a\\u77e5', u'\\u56fd\\u529e\\u51fd\\u30142016\\u301590\\u53f7', u'2016\\u5e7411\\u670817\\u65e5 ']\n"
     ]
    }
   ],
   "source": [
    "soup_doc = BeautifulSoup(unicode(all_document[1]), features=\"lxml\")\n",
    "all_info_li = soup_doc.find_all('li')\n",
    "all_info = []\n",
    "# print all_info\n",
    "# print all_info[1]\n",
    "# # print type(all_info[1])\n",
    "# # print all_info[1].child\n",
    "# # print all_info[1].text\n",
    "\n",
    "# info = re.findall(r\"</strong>(.*?)</li>\" , unicode(all_info[1]) )\n",
    "# print info\n",
    "# print info[0]\n",
    "# # print info[0].decode('unicode-escape')\n",
    "# print type(info)\n",
    "# print type(info[0])\n",
    "\n",
    "for i in all_info_li:\n",
    "#     print re.findall(r\"</strong>(.*?)</li>\" , unicode(i))[0]\n",
    "    all_info.extend(re.findall(r\"</strong>(.*?)</li>\" , unicode(i)))\n",
    "#     print all_info[-1]\n",
    "\n",
    "print all_info    "
   ]
  },
  {
   "cell_type": "markdown",
   "metadata": {},
   "source": [
    "# 发改委"
   ]
  },
  {
   "cell_type": "code",
   "execution_count": 72,
   "metadata": {},
   "outputs": [
    {
     "data": {
      "text/plain": [
       "True"
      ]
     },
     "execution_count": 72,
     "metadata": {},
     "output_type": "execute_result"
    }
   ],
   "source": [
    "# url_base = \"http://www.gov.cn/zhengce/xxgkzl.htm\"\n",
    "url_search = \"https://so.ndrc.gov.cn/api/query\"\n",
    "\n",
    "param = {\n",
    "    'qt': '林业生态',\n",
    "    'tab': 'all', \n",
    "    'page': 46, \n",
    "    'pageSize': 20,\n",
    "    'siteCode': 'bm04000fgk', \n",
    "    'key': 'CAB549A94CF659904A7D6B0E8FC8A7E9', \n",
    "#     startDateStr: \n",
    "#     endDateStr: \n",
    "    'timeOption': 0, \n",
    "    'sort': 'dateDesc'\n",
    "}\n",
    "\n",
    "r = requests.get(url_search, params=param)\n",
    "webbrowser.open(r.url)\n",
    "# print r\n",
    "# print type(r)\n",
    "# print r.status_code \n",
    "# print type(r.status_code)"
   ]
  },
  {
   "cell_type": "code",
   "execution_count": 34,
   "metadata": {},
   "outputs": [
    {
     "name": "stdout",
     "output_type": "stream",
     "text": [
      "<type 'str'>\n",
      "{\n",
      "\t\"msg\":\"调用查询接口成功！\",\n",
      "\t\"totalHits\":885,\n",
      "\t\"success\":\"true\",\n",
      "\t\"resultList\":[\n",
      "\t\t{\n",
      "\t\t\t\"summary\":\"\",\n",
      "\t\t\t\"editor\":\"\",\n",
      "\t\t\t\"publishTime\":\"2020-06-19 20:03:50\",\n",
      "\t\t\t\"author\":\"\",\n",
      "\t\t\t\"indexName\":\"\",\n",
      "\t\t\t\"dreTitle\":\"\",\n",
      "\t\t\t\"source\":\"\",\n",
      "\t\t\t\"title\":\"关于开展2020年全国节能宣传周和全国低碳日活动的通知(发改环资〔2020〕920号)\",\n",
      "\t\t\t\"content\":\"\",\n",
      "\t\t\t\"url\":\"https://www.ndrc.gov.cn/xxgk/zcfb/tz/202006/t20200619_1231619.html\",\n",
      "\t\t\t\"reference\":\"1231619\",\n",
      "\t\t\t\"spidertTime\":\"2020-06-19 20:25:01\"\n",
      "\t\t},\n",
      "\t\t{\n",
      "\t\t\t\"summary\":\"\",\n",
      "\t\t\t\"editor\":\"\",\n",
      "\t\t\t\"publishTime\":\"2020-06-18 10:22:10\",\n",
      "\t\t\t\"author\":\"\",\n",
      "\t\t\t\"indexName\":\"\",\n",
      "\t\t\t\"dreTitle\":\"\",\n",
      "\t\t\t\"source\":\"\",\n",
      "\t\t\t\"title\":\"关于做好2020年重点领域化解过剩产能工作的通知(发改运行〔2020〕901号)\",\n",
      "\t\t\t\"content\":\"\",\n",
      "\t\t\t\"url\":\"https://www.ndrc.gov.cn/xxgk/zcfb/tz/202006/t20200618_1231503.html\",\n",
      "\t\t\t\"reference\":\"1231503\",\n",
      "\t\t\t\"spidertTime\":\"2020-06-19 11:16:58\"\n",
      "\t\t},\n",
      "\t\t{\n",
      "\t\t\t\"summary\":\"\",\n",
      "\t\t\t\"editor\":\"\",\n",
      "\t\t\t\"publishTime\":\"2020-06-11 08:58:00\",\n",
      "\t\t\t\"author\":\"\",\n",
      "\t\t\t\"indexName\":\"\",\n",
      "\t\t\t\"dreTitle\":\"\",\n",
      "\t\t\t\"source\":\"\",\n",
      "\t\t\t\"title\":\"关于印发《全国重要生态系统保护和修复重大工程总体规划(2021-2035年)》的通知(发改农经〔2020〕837号)\",\n",
      "\t\t\t\"content\":\"\",\n",
      "\t\t\t\"url\":\"https://www.ndrc.gov.cn/xxgk/zcfb/tz/202006/t20200611_1231112.html\",\n",
      "\t\t\t\"reference\":\"1231112\",\n",
      "\t\t\t\"spidertTime\":\"2020-06-17 17:07:03\"\n",
      "\t\t},\n",
      "\t\t{\n",
      "\t\t\t\"summary\":\"\",\n",
      "\t\t\t\"editor\":\"\",\n",
      "\t\t\t\"publishTime\":\"2020-06-08 16:00:34\",\n",
      "\t\t\t\"author\":\"\",\n",
      "\t\t\t\"indexName\":\"\",\n",
      "\t\t\t\"dreTitle\":\"\",\n",
      "\t\t\t\"source\":\"\",\n",
      "\t\t\t\"title\":\"关于进一步优化发展环境促进生鲜农产品流通的实施意见(发改经贸〔2020〕809号)\",\n",
      "\t\t\t\"content\":\"\",\n",
      "\t\t\t\"url\":\"https://www.ndrc.gov.cn/xxgk/zcfb/tz/202006/t20200608_1230942.html\",\n",
      "\t\t\t\"reference\":\"1230942\",\n",
      "\t\t\t\"spidertTime\":\"2020-06-11 10:34:41\"\n",
      "\t\t},\n",
      "\t\t{\n",
      "\t\t\t\"summary\":\"\",\n",
      "\t\t\t\"editor\":\"\",\n",
      "\t\t\t\"publishTime\":\"2020-06-03 08:46:09\",\n",
      "\t\t\t\"author\":\"\",\n",
      "\t\t\t\"indexName\":\"\",\n",
      "\t\t\t\"dreTitle\":\"\",\n",
      "\t\t\t\"source\":\"\",\n",
      "\t\t\t\"title\":\"关于加快开展县城城镇化补短板强弱项工作的通知(发改规划〔2020〕831号)\",\n",
      "\t\t\t\"content\":\"\",\n",
      "\t\t\t\"url\":\"https://www.ndrc.gov.cn/xxgk/zcfb/tz/202006/t20200603_1229778.html\",\n",
      "\t\t\t\"reference\":\"1229778\",\n",
      "\t\t\t\"spidertTime\":\"2020-06-12 15:36:51\"\n",
      "\t\t},\n",
      "\t\t{\n",
      "\t\t\t\"summary\":\"\",\n",
      "\t\t\t\"editor\":\"\",\n",
      "\t\t\t\"publishTime\":\"2020-05-28 10:48:00\",\n",
      "\t\t\t\"author\":\"\",\n",
      "\t\t\t\"indexName\":\"\",\n",
      "\t\t\t\"dreTitle\":\"\",\n",
      "\t\t\t\"source\":\"\",\n",
      "\t\t\t\"title\":\"关于开展园区环境污染第三方治理第二批遴选工作的通知\",\n",
      "\t\t\t\"content\":\"\",\n",
      "\t\t\t\"url\":\"https://www.ndrc.gov.cn/xxgk/zcfb/tz/202005/t20200528_1229095.html\",\n",
      "\t\t\t\"reference\":\"1229095\",\n",
      "\t\t\t\"spidertTime\":\"2020-06-12 15:36:51\"\n",
      "\t\t},\n",
      "\t\t{\n",
      "\t\t\t\"summary\":\"\",\n",
      "\t\t\t\"editor\":\"\",\n",
      "\t\t\t\"publishTime\":\"2020-05-25 10:09:21\",\n",
      "\t\t\t\"author\":\"\",\n",
      "\t\t\t\"indexName\":\"\",\n",
      "\t\t\t\"dreTitle\":\"\",\n",
      "\t\t\t\"source\":\"\",\n",
      "\t\t\t\"title\":\"关于营造更好发展环境 支持民营节能环保企业健康发展的实施意见(发改环资〔2020〕790号)\",\n",
      "\t\t\t\"content\":\"\",\n",
      "\t\t\t\"url\":\"https://www.ndrc.gov.cn/xxgk/zcfb/tz/202005/t20200525_1228833.html\",\n",
      "\t\t\t\"reference\":\"1228833\",\n",
      "\t\t\t\"spidertTime\":\"2020-05-26 16:10:29\"\n",
      "\t\t},\n",
      "\t\t{\n",
      "\t\t\t\"summary\":\"\",\n",
      "\t\t\t\"editor\":\"\",\n",
      "\t\t\t\"publishTime\":\"2020-05-15 17:52:48\",\n",
      "\t\t\t\"author\":\"\",\n",
      "\t\t\t\"indexName\":\"\",\n",
      "\t\t\t\"dreTitle\":\"\",\n",
      "\t\t\t\"source\":\"\",\n",
      "\t\t\t\"title\":\"关于印发《关于完善废旧家电回收处理体系推动家电更新消费的实施方案》的通知(发改产业〔2020〕752号)\",\n",
      "\t\t\t\"content\":\"\",\n",
      "\t\t\t\"url\":\"https://www.ndrc.gov.cn/xxgk/zcfb/tz/202005/t20200515_1228206.html\",\n",
      "\t\t\t\"reference\":\"1228206\",\n",
      "\t\t\t\"spidertTime\":\"2020-05-20 20:57:59\"\n",
      "\t\t},\n",
      "\t\t{\n",
      "\t\t\t\"summary\":\"\",\n",
      "\t\t\t\"editor\":\"\",\n",
      "\t\t\t\"publishTime\":\"2020-05-08 14:29:55\",\n",
      "\t\t\t\"author\":\"\",\n",
      "\t\t\t\"indexName\":\"\",\n",
      "\t\t\t\"dreTitle\":\"\",\n",
      "\t\t\t\"source\":\"\",\n",
      "\t\t\t\"title\":\"关于开展双创示范基地创业就业“校企行”专项行动的通知(发改办高技〔2020〕310号)\",\n",
      "\t\t\t\"content\":\"\",\n",
      "\t\t\t\"url\":\"https://www.ndrc.gov.cn/xxgk/zcfb/tz/202005/t20200508_1227697.html\",\n",
      "\t\t\t\"reference\":\"1227697\",\n",
      "\t\t\t\"spidertTime\":\"2020-05-08 16:13:29\"\n",
      "\t\t},\n",
      "\t\t{\n",
      "\t\t\t\"summary\":\"\",\n",
      "\t\t\t\"editor\":\"\",\n",
      "\t\t\t\"publishTime\":\"2020-05-06 16:48:26\",\n",
      "\t\t\t\"author\":\"\",\n",
      "\t\t\t\"indexName\":\"\",\n",
      "\t\t\t\"dreTitle\":\"\",\n",
      "\t\t\t\"source\":\"\",\n",
      "\t\t\t\"title\":\"关于长江上游羊石盘至上白沙水道航道整治工程可行性研究报告的批复(发改基础〔2020〕671号)\",\n",
      "\t\t\t\"content\":\"\",\n",
      "\t\t\t\"url\":\"https://www.ndrc.gov.cn/xxgk/zcfb/tz/202005/t20200506_1227571.html\",\n",
      "\t\t\t\"reference\":\"1227571\",\n",
      "\t\t\t\"spidertTime\":\"2020-05-06 17:45:26\"\n",
      "\t\t},\n",
      "\t\t{\n",
      "\t\t\t\"summary\":\"\",\n",
      "\t\t\t\"editor\":\"\",\n",
      "\t\t\t\"publishTime\":\"2020-04-30 14:49:03\",\n",
      "\t\t\t\"author\":\"\",\n",
      "\t\t\t\"indexName\":\"\",\n",
      "\t\t\t\"dreTitle\":\"\",\n",
      "\t\t\t\"source\":\"\",\n",
      "\t\t\t\"title\":\"关于稳定和扩大汽车消费若干措施的通知(发改产业〔2020〕684号)\",\n",
      "\t\t\t\"content\":\"\",\n",
      "\t\t\t\"url\":\"https://www.ndrc.gov.cn/xxgk/zcfb/tz/202004/t20200430_1227367.html\",\n",
      "\t\t\t\"reference\":\"1227367\",\n",
      "\t\t\t\"spidertTime\":\"2020-04-30 15:13:12\"\n",
      "\t\t},\n",
      "\t\t{\n",
      "\t\t\t\"summary\":\"\",\n",
      "\t\t\t\"editor\":\"\",\n",
      "\t\t\t\"publishTime\":\"2020-04-27 15:15:22\",\n",
      "\t\t\t\"author\":\"\",\n",
      "\t\t\t\"indexName\":\"\",\n",
      "\t\t\t\"dreTitle\":\"\",\n",
      "\t\t\t\"source\":\"\",\n",
      "\t\t\t\"title\":\"关于江苏省建湖县城市建设投资有限公司发行绿色债券核准的批复(发改企业债券〔2020〕69号)\",\n",
      "\t\t\t\"content\":\"\",\n",
      "\t\t\t\"url\":\"https://www.ndrc.gov.cn/xxgk/zcfb/qt/202004/t20200427_1226861.html\",\n",
      "\t\t\t\"reference\":\"1226861\",\n",
      "\t\t\t\"spidertTime\":\"2020-04-27 16:45:06\"\n",
      "\t\t},\n",
      "\t\t{\n",
      "\t\t\t\"summary\":\"\",\n",
      "\t\t\t\"editor\":\"\",\n",
      "\t\t\t\"publishTime\":\"2020-04-27 14:48:26\",\n",
      "\t\t\t\"author\":\"\",\n",
      "\t\t\t\"indexName\":\"\",\n",
      "\t\t\t\"dreTitle\":\"\",\n",
      "\t\t\t\"source\":\"\",\n",
      "\t\t\t\"title\":\"关于印发《长江三角洲地区交通运输更高质量一体化发展规划》的通知(发改基础〔2020〕529号)\",\n",
      "\t\t\t\"content\":\"\",\n",
      "\t\t\t\"url\":\"https://www.ndrc.gov.cn/xxgk/zcfb/ghwb/202004/t20200427_1226858.html\",\n",
      "\t\t\t\"reference\":\"1226858\",\n",
      "\t\t\t\"spidertTime\":\"2020-05-01 01:14:57\"\n",
      "\t\t},\n",
      "\t\t{\n",
      "\t\t\t\"summary\":\"\",\n",
      "\t\t\t\"editor\":\"\",\n",
      "\t\t\t\"publishTime\":\"2020-04-22 08:46:13\",\n",
      "\t\t\t\"author\":\"\",\n",
      "\t\t\t\"indexName\":\"\",\n",
      "\t\t\t\"dreTitle\":\"\",\n",
      "\t\t\t\"source\":\"\",\n",
      "\t\t\t\"title\":\"关于湖北省公安县城建投资有限公司发行绿色债券核准的批复(发改企业债券〔2020〕66号)\",\n",
      "\t\t\t\"content\":\"\",\n",
      "\t\t\t\"url\":\"https://www.ndrc.gov.cn/xxgk/zcfb/qt/202004/t20200422_1226278.html\",\n",
      "\t\t\t\"reference\":\"1226278\",\n",
      "\t\t\t\"spidertTime\":\"2020-04-22 09:02:53\"\n",
      "\t\t},\n",
      "\t\t{\n",
      "\t\t\t\"summary\":\"\",\n",
      "\t\t\t\"editor\":\"\",\n",
      "\t\t\t\"publishTime\":\"2020-04-16 10:16:42\",\n",
      "\t\t\t\"author\":\"\",\n",
      "\t\t\t\"indexName\":\"\",\n",
      "\t\t\t\"dreTitle\":\"\",\n",
      "\t\t\t\"source\":\"\",\n",
      "\t\t\t\"title\":\"关于完善长江经济带污水处理收费机制有关政策的指导意见(发改价格〔2020〕561号)\",\n",
      "\t\t\t\"content\":\"\",\n",
      "\t\t\t\"url\":\"https://www.ndrc.gov.cn/xxgk/zcfb/tz/202004/t20200416_1225845.html\",\n",
      "\t\t\t\"reference\":\"1225845\",\n",
      "\t\t\t\"spidertTime\":\"2020-04-16 13:06:40\"\n",
      "\t\t},\n",
      "\t\t{\n",
      "\t\t\t\"summary\":\"\",\n",
      "\t\t\t\"editor\":\"\",\n",
      "\t\t\t\"publishTime\":\"2020-04-16 10:08:39\",\n",
      "\t\t\t\"author\":\"\",\n",
      "\t\t\t\"indexName\":\"\",\n",
      "\t\t\t\"dreTitle\":\"\",\n",
      "\t\t\t\"source\":\"\",\n",
      "\t\t\t\"title\":\"关于新建西安至十堰高速铁路可行性研究报告的批复(发改基础〔2020〕595号)\",\n",
      "\t\t\t\"content\":\"\",\n",
      "\t\t\t\"url\":\"https://www.ndrc.gov.cn/xxgk/zcfb/tz/202004/t20200416_1225846.html\",\n",
      "\t\t\t\"reference\":\"1225846\",\n",
      "\t\t\t\"spidertTime\":\"2020-04-16 13:06:40\"\n",
      "\t\t},\n",
      "\t\t{\n",
      "\t\t\t\"summary\":\"\",\n",
      "\t\t\t\"editor\":\"\",\n",
      "\t\t\t\"publishTime\":\"2020-04-14 08:51:33\",\n",
      "\t\t\t\"author\":\"\",\n",
      "\t\t\t\"indexName\":\"\",\n",
      "\t\t\t\"dreTitle\":\"\",\n",
      "\t\t\t\"source\":\"\",\n",
      "\t\t\t\"title\":\"关于加快推进天然气储备能力建设的实施意见(发改价格〔2020〕567号)\",\n",
      "\t\t\t\"content\":\"\",\n",
      "\t\t\t\"url\":\"https://www.ndrc.gov.cn/xxgk/zcfb/tz/202004/t20200414_1225639.html\",\n",
      "\t\t\t\"reference\":\"1225639\",\n",
      "\t\t\t\"spidertTime\":\"2020-04-14 16:48:43\"\n",
      "\t\t},\n",
      "\t\t{\n",
      "\t\t\t\"summary\":\"\",\n",
      "\t\t\t\"editor\":\"\",\n",
      "\t\t\t\"publishTime\":\"2020-04-10 15:09:13\",\n",
      "\t\t\t\"author\":\"\",\n",
      "\t\t\t\"indexName\":\"\",\n",
      "\t\t\t\"dreTitle\":\"\",\n",
      "\t\t\t\"source\":\"\",\n",
      "\t\t\t\"title\":\"关于江苏省常州滨江经济开发区投资发展集团有限公司发行绿色债券注册的通知(发改企业债券〔2020〕60号)\",\n",
      "\t\t\t\"content\":\"\",\n",
      "\t\t\t\"url\":\"https://www.ndrc.gov.cn/xxgk/zcfb/qt/202004/t20200410_1225493.html\",\n",
      "\t\t\t\"reference\":\"1225493\",\n",
      "\t\t\t\"spidertTime\":\"2020-04-10 15:44:31\"\n",
      "\t\t},\n",
      "\t\t{\n",
      "\t\t\t\"summary\":\"\",\n",
      "\t\t\t\"editor\":\"\",\n",
      "\t\t\t\"publishTime\":\"2020-04-10 15:07:29\",\n",
      "\t\t\t\"author\":\"\",\n",
      "\t\t\t\"indexName\":\"\",\n",
      "\t\t\t\"dreTitle\":\"\",\n",
      "\t\t\t\"source\":\"\",\n",
      "\t\t\t\"title\":\"关于江苏省苏州市三角咀生态园开发有限公司发行公司债券注册的通知(发改企业债券〔2020〕63号)\",\n",
      "\t\t\t\"content\":\"\",\n",
      "\t\t\t\"url\":\"https://www.ndrc.gov.cn/xxgk/zcfb/qt/202004/t20200410_1225492.html\",\n",
      "\t\t\t\"reference\":\"1225492\",\n",
      "\t\t\t\"spidertTime\":\"2020-04-10 15:44:32\"\n",
      "\t\t},\n",
      "\t\t{\n",
      "\t\t\t\"summary\":\"\",\n",
      "\t\t\t\"editor\":\"\",\n",
      "\t\t\t\"publishTime\":\"2020-04-09 17:04:50\",\n",
      "\t\t\t\"author\":\"\",\n",
      "\t\t\t\"indexName\":\"\",\n",
      "\t\t\t\"dreTitle\":\"\",\n",
      "\t\t\t\"source\":\"\",\n",
      "\t\t\t\"title\":\"关于印发《2020年新型城镇化建设和城乡融合发展重点任务》的通知(发改规划〔2020〕532号)\",\n",
      "\t\t\t\"content\":\"\",\n",
      "\t\t\t\"url\":\"https://www.ndrc.gov.cn/xxgk/zcfb/tz/202004/t20200409_1225431.html\",\n",
      "\t\t\t\"reference\":\"1225431\",\n",
      "\t\t\t\"spidertTime\":\"2020-04-09 17:42:28\"\n",
      "\t\t}\n",
      "\t]\n",
      "}\n"
     ]
    }
   ],
   "source": [
    "# soup = BeautifulSoup(r.content, features='lxml')\n",
    "# print soup\n",
    "print type(r.content)\n",
    "print r.content\n"
   ]
  },
  {
   "cell_type": "code",
   "execution_count": 73,
   "metadata": {},
   "outputs": [
    {
     "name": "stdout",
     "output_type": "stream",
     "text": [
      "<type 'list'>\n"
     ]
    }
   ],
   "source": [
    "# all_document = json.load(json.dumps(r.content))\n",
    "# type(r.content)\n",
    "r_json = json.loads(r.content)\n",
    "# print type(all_document)\n",
    "# print type(all_document.get('resultList'))\n",
    "# test = dict(all_document['resultList'])\n",
    "# print all_document['title']\n",
    "\n",
    "print type(r_json['resultList'])\n"
   ]
  },
  {
   "cell_type": "code",
   "execution_count": 60,
   "metadata": {},
   "outputs": [],
   "source": [
    "\n",
    "\n",
    "all_title = []\n",
    "all_href = []\n",
    "all_date = []\n",
    "all_number = []\n",
    "\n",
    "all_title.extend(jsonpath.jsonpath(r_json,\"$..title\"))\n",
    "# print all_title[0]\n",
    "all_href.extend(jsonpath.jsonpath(r_json,\"$..url\"))\n",
    "all_date.extend(jsonpath.jsonpath(r_json,\"$..publishTime\"))\n",
    "# all_title.extend(jsonpath.jsonpath(r_json,\"$..title\"))"
   ]
  },
  {
   "cell_type": "code",
   "execution_count": 44,
   "metadata": {},
   "outputs": [
    {
     "name": "stdout",
     "output_type": "stream",
     "text": [
      "[['b'], ['e'], ['2']]\n"
     ]
    }
   ],
   "source": [
    "a = ['a(b)c', 'd(e)f', '1(2)3']\n",
    "p1 = re.compile(r'[(](.*?)[)]', re.S)\n",
    "b = [re.findall(p1,i) for i in a]\n",
    "print b\n",
    "# print re.findall(p1, a)"
   ]
  },
  {
   "cell_type": "code",
   "execution_count": 74,
   "metadata": {},
   "outputs": [],
   "source": [
    "p1 = re.compile(r'[(](.*?)[)]', re.S)\n",
    "p2 = re.compile(r'(.*?)[(]', re.S)\n",
    "# print all_title[0]\n",
    "# print re.findall(p1, all_title[0])[0]\n",
    "# print re.findall(p2, all_title[0])[0]"
   ]
  },
  {
   "cell_type": "code",
   "execution_count": 62,
   "metadata": {},
   "outputs": [
    {
     "name": "stdout",
     "output_type": "stream",
     "text": [
      "True\n",
      "True\n",
      "True\n",
      "True\n",
      "True\n",
      "False\n",
      "True\n",
      "True\n",
      "True\n",
      "True\n",
      "True\n",
      "True\n",
      "True\n",
      "True\n",
      "True\n",
      "True\n",
      "True\n",
      "True\n",
      "True\n",
      "True\n"
     ]
    }
   ],
   "source": [
    "# # print all_title\n",
    "# for t in all_title:\n",
    "# #     print ('(' in t)\n",
    "#     l = t.find('(')\n",
    "#     r = t.find(')')\n",
    "    \n",
    "# #     print t\n",
    "# #     print re.findall(p1, t)\n",
    "# # all_number = [re.findall(p1, t)[0] for t in all_title]\n",
    "# # all_title  = [re.findall(p2, t)[0] for t in all_title]\n",
    "# # print all_number[0]\n",
    "# # print all_title[0]"
   ]
  },
  {
   "cell_type": "markdown",
   "metadata": {},
   "source": [
    "# 国务院"
   ]
  },
  {
   "cell_type": "code",
   "execution_count": 3,
   "metadata": {},
   "outputs": [],
   "source": [
    "# url_base = \"http://www.gov.cn/zhengce/xxgkzl.htm\"\n",
    "keyword = u\"西部大开发\"\n",
    "url_search = \"http://sousuo.gov.cn/s.htm\"\n",
    "\n",
    "param = {\n",
    "    't': 'zhengcelibrary', \n",
    "    'q': '', \n",
    "    'sortType': 1, \n",
    "    'searchfield': ''\n",
    "    'p': 0, \n",
    "    'n': 5\n",
    "}\n",
    "\n",
    "param['q'] = keyword\n",
    "# for p in range(16):\n",
    "#     param['p'] = p\n",
    "#     r = requests.get(url_search, params=param)\n",
    "#     webbrowser.open(r.url)\n",
    "\n",
    "r = requests.get(url_search, params=param)\n",
    "webbrowser.open(r.url)\n",
    "soup = BeautifulSoup(r.content, features='lxml')"
   ]
  }
 ],
 "metadata": {
  "kernelspec": {
   "display_name": "Python 2",
   "language": "python",
   "name": "python2"
  },
  "language_info": {
   "codemirror_mode": {
    "name": "ipython",
    "version": 2
   },
   "file_extension": ".py",
   "mimetype": "text/x-python",
   "name": "python",
   "nbconvert_exporter": "python",
   "pygments_lexer": "ipython2",
   "version": "2.7.11"
  }
 },
 "nbformat": 4,
 "nbformat_minor": 2
}
